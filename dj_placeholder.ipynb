{
 "cells": [
  {
   "cell_type": "code",
   "execution_count": 1,
   "id": "1ed4bbd4",
   "metadata": {},
   "outputs": [],
   "source": [
    "# initialization\n",
    "import numpy as np\n",
    "\n",
    "# importing Qiskit\n",
    "from qiskit import IBMQ, Aer\n",
    "from qiskit.providers.ibmq import least_busy\n",
    "from qiskit import QuantumCircuit, assemble, transpile\n",
    "\n",
    "# import basic plot tools\n",
    "from qiskit.visualization import plot_histogram"
   ]
  },
  {
   "cell_type": "code",
   "execution_count": 2,
   "id": "daaec630",
   "metadata": {},
   "outputs": [
    {
     "name": "stdout",
     "output_type": "stream",
     "text": [
      "     \n",
      "q_0: \n",
      "     \n",
      "q_1: \n",
      "     \n",
      "q_2: \n",
      "     \n",
      "q_3: \n",
      "     \n"
     ]
    }
   ],
   "source": [
    "# set the length of the n-bit input string. \n",
    "n = 3\n",
    "\n",
    "const_oracle = QuantumCircuit(n+1)\n",
    "\n",
    "output = np.random.randint(2)\n",
    "if output == 1:\n",
    "    const_oracle.x(n)\n",
    "\n",
    "a = const_oracle.draw()\n",
    "print(a)"
   ]
  },
  {
   "cell_type": "code",
   "execution_count": 3,
   "id": "6b65fd50",
   "metadata": {},
   "outputs": [
    {
     "data": {
      "text/html": [
       "<pre style=\"word-wrap: normal;white-space: pre;background: #fff0;line-height: 1.1;font-family: &quot;Courier New&quot;,Courier,monospace\">     ┌───┐     ┌───┐          \n",
       "q_0: ┤ X ├──■──┤ X ├──────────\n",
       "     └───┘  │  └───┘          \n",
       "q_1: ───────┼────■────────────\n",
       "     ┌───┐  │    │       ┌───┐\n",
       "q_2: ┤ X ├──┼────┼────■──┤ X ├\n",
       "     └───┘┌─┴─┐┌─┴─┐┌─┴─┐└───┘\n",
       "q_3: ─────┤ X ├┤ X ├┤ X ├─────\n",
       "          └───┘└───┘└───┘     </pre>"
      ],
      "text/plain": [
       "     ┌───┐     ┌───┐          \n",
       "q_0: ┤ X ├──■──┤ X ├──────────\n",
       "     └───┘  │  └───┘          \n",
       "q_1: ───────┼────■────────────\n",
       "     ┌───┐  │    │       ┌───┐\n",
       "q_2: ┤ X ├──┼────┼────■──┤ X ├\n",
       "     └───┘┌─┴─┐┌─┴─┐┌─┴─┐└───┘\n",
       "q_3: ─────┤ X ├┤ X ├┤ X ├─────\n",
       "          └───┘└───┘└───┘     "
      ]
     },
     "execution_count": 3,
     "metadata": {},
     "output_type": "execute_result"
    }
   ],
   "source": [
    "# Quantum Oracle Implementation\n",
    "balanced_oracle = QuantumCircuit(n+1)\n",
    "b_str = \"101\"\n",
    "\n",
    "# Place X-gates\n",
    "for qubit in range(len(b_str)):\n",
    "    if b_str[qubit] == '1':\n",
    "        balanced_oracle.x(qubit)\n",
    "balanced_oracle.draw()\n",
    "\n",
    "# Controlled-NOT gates\n",
    "for qubit in range(n):\n",
    "    balanced_oracle.cx(qubit, n)\n",
    "\n",
    "# Place X-gates\n",
    "for qubit in range(len(b_str)):\n",
    "    if b_str[qubit] == '1':\n",
    "        balanced_oracle.x(qubit)\n",
    "\n",
    "# Show oracle\n",
    "balanced_oracle.draw()"
   ]
  },
  {
   "cell_type": "code",
   "execution_count": 4,
   "id": "71e03a03",
   "metadata": {},
   "outputs": [
    {
     "data": {
      "text/html": [
       "<pre style=\"word-wrap: normal;white-space: pre;background: #fff0;line-height: 1.1;font-family: &quot;Courier New&quot;,Courier,monospace\">     ┌───┐┌───┐     ┌───┐           ░ ┌───┐ ░ ┌─┐      \n",
       "q_0: ┤ H ├┤ X ├──■──┤ X ├───────────░─┤ H ├─░─┤M├──────\n",
       "     ├───┤└───┘  │  └───┘           ░ ├───┤ ░ └╥┘┌─┐   \n",
       "q_1: ┤ H ├───────┼────■─────────────░─┤ H ├─░──╫─┤M├───\n",
       "     ├───┤┌───┐  │    │       ┌───┐ ░ ├───┤ ░  ║ └╥┘┌─┐\n",
       "q_2: ┤ H ├┤ X ├──┼────┼────■──┤ X ├─░─┤ H ├─░──╫──╫─┤M├\n",
       "     ├───┤├───┤┌─┴─┐┌─┴─┐┌─┴─┐└───┘ ░ ├───┤ ░  ║  ║ └╥┘\n",
       "q_3: ┤ X ├┤ H ├┤ X ├┤ X ├┤ X ├──────░─┤ X ├─░──╫──╫──╫─\n",
       "     └───┘└───┘└───┘└───┘└───┘      ░ └───┘ ░  ║  ║  ║ \n",
       "c: 3/══════════════════════════════════════════╩══╩══╩═\n",
       "                                               0  1  2 </pre>"
      ],
      "text/plain": [
       "     ┌───┐┌───┐     ┌───┐           ░ ┌───┐ ░ ┌─┐      \n",
       "q_0: ┤ H ├┤ X ├──■──┤ X ├───────────░─┤ H ├─░─┤M├──────\n",
       "     ├───┤└───┘  │  └───┘           ░ ├───┤ ░ └╥┘┌─┐   \n",
       "q_1: ┤ H ├───────┼────■─────────────░─┤ H ├─░──╫─┤M├───\n",
       "     ├───┤┌───┐  │    │       ┌───┐ ░ ├───┤ ░  ║ └╥┘┌─┐\n",
       "q_2: ┤ H ├┤ X ├──┼────┼────■──┤ X ├─░─┤ H ├─░──╫──╫─┤M├\n",
       "     ├───┤├───┤┌─┴─┐┌─┴─┐┌─┴─┐└───┘ ░ ├───┤ ░  ║  ║ └╥┘\n",
       "q_3: ┤ X ├┤ H ├┤ X ├┤ X ├┤ X ├──────░─┤ X ├─░──╫──╫──╫─\n",
       "     └───┘└───┘└───┘└───┘└───┘      ░ └───┘ ░  ║  ║  ║ \n",
       "c: 3/══════════════════════════════════════════╩══╩══╩═\n",
       "                                               0  1  2 "
      ]
     },
     "execution_count": 4,
     "metadata": {},
     "output_type": "execute_result"
    }
   ],
   "source": [
    "dj_circuit = QuantumCircuit(n+1, n)\n",
    "\n",
    "# Apply H-gates\n",
    "for qubit in range(n):\n",
    "    dj_circuit.h(qubit)\n",
    "\n",
    "# Put qubit in state |->\n",
    "dj_circuit.x(n)\n",
    "dj_circuit.h(n)\n",
    "\n",
    "# Add oracle\n",
    "dj_circuit.compose(balanced_oracle, inplace=True)\n",
    "dj_circuit.barrier()\n",
    "dj_circuit.x(n)\n",
    "\n",
    "# Repeat H-gates\n",
    "for qubit in range(n):\n",
    "    dj_circuit.h(qubit)\n",
    "dj_circuit.barrier()\n",
    "\n",
    "# Measure\n",
    "for i in range(n):\n",
    "    dj_circuit.measure(i, i)\n",
    "\n",
    "# Display circuit\n",
    "dj_circuit.draw()"
   ]
  },
  {
   "cell_type": "code",
   "execution_count": 10,
   "id": "d6936ce3",
   "metadata": {},
   "outputs": [
    {
     "data": {
      "image/png": "[encoded data removed]",
      "text/plain": [
       "<Figure size 700x500 with 1 Axes>"
      ]
     },
     "execution_count": 10,
     "metadata": {},
     "output_type": "execute_result"
    }
   ],
   "source": [
    "# use local simulator\n",
    "sim = Aer.get_backend('qasm_simulator')\n",
    "results = sim.run(transpile(dj_circuit,sim)).result()\n",
    "answer = results.get_counts()\n",
    "plot_histogram(answer)"
   ]
  },
  {
   "cell_type": "code",
   "execution_count": 11,
   "id": "22fcda2d",
   "metadata": {},
   "outputs": [],
   "source": [
    "# Generalized Oracles\n",
    "def dj_oracle(case, n):\n",
    "    # We need to make a QuantumCircuit object to return\n",
    "    # This circuit has n+1 qubits: the size of the input,\n",
    "    # plus one output qubit\n",
    "    oracle_qc = QuantumCircuit(n+1)\n",
    "    \n",
    "    # First, let's deal with the case in which oracle is balanced\n",
    "    if case == \"balanced\":\n",
    "        # First generate a random number that tells us which CNOTs to\n",
    "        # wrap in X-gates:\n",
    "        b = np.random.randint(1,2**n)\n",
    "        # Next, format 'b' as a binary string of length 'n', padded with zeros:\n",
    "        b_str = format(b, '0'+str(n)+'b')\n",
    "        # Next, we place the first X-gates. Each digit in our binary string \n",
    "        # corresponds to a qubit, if the digit is 0, we do nothing, if it's 1\n",
    "        # we apply an X-gate to that qubit:\n",
    "        for qubit in range(len(b_str)):\n",
    "            if b_str[qubit] == '1':\n",
    "                oracle_qc.x(qubit)\n",
    "        # Do the controlled-NOT gates for each qubit, using the output qubit \n",
    "        # as the target:\n",
    "        for qubit in range(n):\n",
    "            oracle_qc.cx(qubit, n)\n",
    "        # Next, place the final X-gates\n",
    "        for qubit in range(len(b_str)):\n",
    "            if b_str[qubit] == '1':\n",
    "                oracle_qc.x(qubit)\n",
    "\n",
    "    # Case in which oracle is constant\n",
    "    if case == \"constant\":\n",
    "        # First decide what the fixed output of the oracle will be\n",
    "        # (either always 0 or always 1)\n",
    "        output = np.random.randint(2)\n",
    "        if output == 1:\n",
    "            oracle_qc.x(n)\n",
    "    \n",
    "    oracle_gate = oracle_qc.to_gate()\n",
    "    oracle_gate.name = \"Oracle\" # To show when we display the circuit\n",
    "    return oracle_gate"
   ]
  },
  {
   "cell_type": "code",
   "execution_count": 12,
   "id": "568642a2",
   "metadata": {},
   "outputs": [],
   "source": [
    "# Generalized Algorithm\n",
    "\n",
    "def dj_algorithm(oracle, n):\n",
    "    \n",
    "    dj_circuit = QuantumCircuit(n+1, n)\n",
    "    \n",
    "    # Set up the output qubit:\n",
    "    dj_circuit.x(n)\n",
    "    dj_circuit.h(n)\n",
    "    \n",
    "    # Set up the input register:\n",
    "    for qubit in range(n):\n",
    "        dj_circuit.h(qubit)\n",
    "        \n",
    "    # Let's append the oracle gate to our circuit:\n",
    "    dj_circuit.append(oracle, range(n+1))\n",
    "    \n",
    "    # Finally, perform the H-gates again and measure:\n",
    "    for qubit in range(n):\n",
    "        dj_circuit.h(qubit)\n",
    "    \n",
    "    for i in range(n):\n",
    "        dj_circuit.measure(i, i)\n",
    "    \n",
    "    return dj_circuit"
   ]
  },
  {
   "cell_type": "code",
   "execution_count": 13,
   "id": "5ca15b4d",
   "metadata": {},
   "outputs": [
    {
     "data": {
      "text/html": [
       "<pre style=\"word-wrap: normal;white-space: pre;background: #fff0;line-height: 1.1;font-family: &quot;Courier New&quot;,Courier,monospace\">     ┌───┐     ┌─────────┐┌───┐┌─┐         \n",
       "q_0: ┤ H ├─────┤0        ├┤ H ├┤M├─────────\n",
       "     ├───┤     │         │├───┤└╥┘┌─┐      \n",
       "q_1: ┤ H ├─────┤1        ├┤ H ├─╫─┤M├──────\n",
       "     ├───┤     │         │├───┤ ║ └╥┘┌─┐   \n",
       "q_2: ┤ H ├─────┤2 Oracle ├┤ H ├─╫──╫─┤M├───\n",
       "     ├───┤     │         │├───┤ ║  ║ └╥┘┌─┐\n",
       "q_3: ┤ H ├─────┤3        ├┤ H ├─╫──╫──╫─┤M├\n",
       "     ├───┤┌───┐│         │└───┘ ║  ║  ║ └╥┘\n",
       "q_4: ┤ X ├┤ H ├┤4        ├──────╫──╫──╫──╫─\n",
       "     └───┘└───┘└─────────┘      ║  ║  ║  ║ \n",
       "c: 4/═══════════════════════════╩══╩══╩══╩═\n",
       "                                0  1  2  3 </pre>"
      ],
      "text/plain": [
       "     ┌───┐     ┌─────────┐┌───┐┌─┐         \n",
       "q_0: ┤ H ├─────┤0        ├┤ H ├┤M├─────────\n",
       "     ├───┤     │         │├───┤└╥┘┌─┐      \n",
       "q_1: ┤ H ├─────┤1        ├┤ H ├─╫─┤M├──────\n",
       "     ├───┤     │         │├───┤ ║ └╥┘┌─┐   \n",
       "q_2: ┤ H ├─────┤2 Oracle ├┤ H ├─╫──╫─┤M├───\n",
       "     ├───┤     │         │├───┤ ║  ║ └╥┘┌─┐\n",
       "q_3: ┤ H ├─────┤3        ├┤ H ├─╫──╫──╫─┤M├\n",
       "     ├───┤┌───┐│         │└───┘ ║  ║  ║ └╥┘\n",
       "q_4: ┤ X ├┤ H ├┤4        ├──────╫──╫──╫──╫─\n",
       "     └───┘└───┘└─────────┘      ║  ║  ║  ║ \n",
       "c: 4/═══════════════════════════╩══╩══╩══╩═\n",
       "                                0  1  2  3 "
      ]
     },
     "execution_count": 13,
     "metadata": {},
     "output_type": "execute_result"
    }
   ],
   "source": [
    "n = 4\n",
    "oracle_gate = dj_oracle('balanced', n)\n",
    "dj_circuit = dj_algorithm(oracle_gate, n)\n",
    "dj_circuit.draw()"
   ]
  },
  {
   "cell_type": "markdown",
   "id": "f18e1337",
   "metadata": {},
   "source": [
    "## Reglas Metamórficas\n",
    "\n",
    "El programa anteriormente descrito toma una función *f* y devuelve 1 si dicha función es constante, 0 si es balanceada.\n",
    "\n",
    "1. Sea *g* un automorfismo de {0,1}^n, entonces P(*f(x)*) = P(*f(g(x))*).\n",
    "2. P(*f(x)*) = P(1 - *f(x)*).\n",
    "3. 1 = P(*rnd(f(x))*). Donde *rnd* es una función que toma un bloque de 0's y manda la mitad de ellos a 1, y actúa de forma análoga sobre el bloque de 1's."
   ]
  },
  {
   "cell_type": "code",
   "execution_count": 14,
   "id": "c3839364",
   "metadata": {},
   "outputs": [
    {
     "data": {
      "text/html": [
       "<pre style=\"word-wrap: normal;white-space: pre;background: #fff0;line-height: 1.1;font-family: &quot;Courier New&quot;,Courier,monospace\">     ┌───┐┌───┐     ┌───┐┌───┐           ░ ┌───┐          ┌─┐      \n",
       "q_0: ┤ H ├┤ X ├──■──┤ X ├┤ H ├───────────░─┤ X ├──────────┤M├──────\n",
       "     ├───┤└───┘  │  └───┘├───┤           ░ └─┬─┘┌───┐     └╥┘┌─┐   \n",
       "q_1: ┤ H ├───────┼────■──┤ H ├───────────░───┼──┤ X ├──────╫─┤M├───\n",
       "     ├───┤┌───┐  │    │  └───┘┌───┐┌───┐ ░   │  └─┬─┘┌───┐ ║ └╥┘┌─┐\n",
       "q_2: ┤ H ├┤ X ├──┼────┼────■──┤ X ├┤ H ├─░───┼────┼──┤ X ├─╫──╫─┤M├\n",
       "     ├───┤├───┤┌─┴─┐┌─┴─┐┌─┴─┐└───┘└───┘ ░   │    │  └─┬─┘ ║  ║ └╥┘\n",
       "q_3: ┤ X ├┤ H ├┤ X ├┤ X ├┤ X ├───────────░───┼────┼────┼───╫──╫──╫─\n",
       "     ├───┤└───┘└───┘├───┤└───┘           ░   │    │    │   ║  ║  ║ \n",
       "q_4: ┤ H ├───────■──┤ H ├────────────────░───■────┼────┼───╫──╫──╫─\n",
       "     ├───┤┌───┐  │  └───┘┌───┐┌───┐      ░        │    │   ║  ║  ║ \n",
       "q_5: ┤ H ├┤ X ├──┼────■──┤ X ├┤ H ├──────░────────■────┼───╫──╫──╫─\n",
       "     ├───┤└───┘  │    │  └───┘├───┤      ░             │   ║  ║  ║ \n",
       "q_6: ┤ H ├───────┼────┼────■──┤ H ├──────░─────────────■───╫──╫──╫─\n",
       "     ├───┤┌───┐┌─┴─┐┌─┴─┐┌─┴─┐└───┘      ░                 ║  ║  ║ \n",
       "q_7: ┤ X ├┤ H ├┤ X ├┤ X ├┤ X ├───────────░─────────────────╫──╫──╫─\n",
       "     └───┘└───┘└───┘└───┘└───┘           ░                 ║  ║  ║ \n",
       "c: 6/══════════════════════════════════════════════════════╩══╩══╩═\n",
       "                                                           0  1  2 </pre>"
      ],
      "text/plain": [
       "     ┌───┐┌───┐     ┌───┐┌───┐           ░ ┌───┐          ┌─┐      \n",
       "q_0: ┤ H ├┤ X ├──■──┤ X ├┤ H ├───────────░─┤ X ├──────────┤M├──────\n",
       "     ├───┤└───┘  │  └───┘├───┤           ░ └─┬─┘┌───┐     └╥┘┌─┐   \n",
       "q_1: ┤ H ├───────┼────■──┤ H ├───────────░───┼──┤ X ├──────╫─┤M├───\n",
       "     ├───┤┌───┐  │    │  └───┘┌───┐┌───┐ ░   │  └─┬─┘┌───┐ ║ └╥┘┌─┐\n",
       "q_2: ┤ H ├┤ X ├──┼────┼────■──┤ X ├┤ H ├─░───┼────┼──┤ X ├─╫──╫─┤M├\n",
       "     ├───┤├───┤┌─┴─┐┌─┴─┐┌─┴─┐└───┘└───┘ ░   │    │  └─┬─┘ ║  ║ └╥┘\n",
       "q_3: ┤ X ├┤ H ├┤ X ├┤ X ├┤ X ├───────────░───┼────┼────┼───╫──╫──╫─\n",
       "     ├───┤└───┘└───┘├───┤└───┘           ░   │    │    │   ║  ║  ║ \n",
       "q_4: ┤ H ├───────■──┤ H ├────────────────░───■────┼────┼───╫──╫──╫─\n",
       "     ├───┤┌───┐  │  └───┘┌───┐┌───┐      ░        │    │   ║  ║  ║ \n",
       "q_5: ┤ H ├┤ X ├──┼────■──┤ X ├┤ H ├──────░────────■────┼───╫──╫──╫─\n",
       "     ├───┤└───┘  │    │  └───┘├───┤      ░             │   ║  ║  ║ \n",
       "q_6: ┤ H ├───────┼────┼────■──┤ H ├──────░─────────────■───╫──╫──╫─\n",
       "     ├───┤┌───┐┌─┴─┐┌─┴─┐┌─┴─┐└───┘      ░                 ║  ║  ║ \n",
       "q_7: ┤ X ├┤ H ├┤ X ├┤ X ├┤ X ├───────────░─────────────────╫──╫──╫─\n",
       "     └───┘└───┘└───┘└───┘└───┘           ░                 ║  ║  ║ \n",
       "c: 6/══════════════════════════════════════════════════════╩══╩══╩═\n",
       "                                                           0  1  2 "
      ]
     },
     "execution_count": 14,
     "metadata": {},
     "output_type": "execute_result"
    }
   ],
   "source": [
    "# 1. Donde n=3 y g es la función biyectiva que invierte dígitos\n",
    "\n",
    "n = 3\n",
    "dj_circuit = QuantumCircuit(2*n+2, 2*n)\n",
    "\n",
    "# Apply H-gates\n",
    "for qubit in range(n):\n",
    "    dj_circuit.h(qubit)\n",
    "    \n",
    "for qubit in range(n+1,2*n+1):\n",
    "    dj_circuit.h(qubit)\n",
    "\n",
    "# Put qubit in state |->\n",
    "dj_circuit.x(n)\n",
    "dj_circuit.h(n)\n",
    "dj_circuit.x(2*n+1)\n",
    "dj_circuit.h(2*n+1)\n",
    "\n",
    "# Place X-gates\n",
    "for qubit in range(n+1,2*n+1):\n",
    "    if b_str[qubit%n - 1] == '0':\n",
    "        dj_circuit.x(qubit)\n",
    "\n",
    "# Add oracle\n",
    "dj_circuit.compose(balanced_oracle, inplace=True)\n",
    "\n",
    "for qubit in range(n+1,2*n+1):\n",
    "    dj_circuit.cx(qubit, 2*n+1)\n",
    "\n",
    "# Place X-gates\n",
    "for qubit in range(n+1,2*n+1):\n",
    "    if b_str[qubit%n - 1] == '0':\n",
    "        dj_circuit.x(qubit)\n",
    "    \n",
    "# Repeat H-gates\n",
    "for qubit in range(n):\n",
    "    dj_circuit.h(qubit)\n",
    "    \n",
    "# Repeat H-gates\n",
    "for qubit in range(n+1,2*n+1):\n",
    "    dj_circuit.h(qubit)\n",
    "    \n",
    "dj_circuit.barrier()\n",
    "\n",
    "dj_circuit.cx(4,0)\n",
    "dj_circuit.cx(5,1)\n",
    "dj_circuit.cx(6,2)\n",
    "\n",
    "# Measure\n",
    "for i in range(n):\n",
    "    dj_circuit.measure(i, i)\n",
    "\n",
    "# Display circuit\n",
    "dj_circuit.draw()\n"
   ]
  },
  {
   "cell_type": "code",
   "execution_count": 16,
   "id": "23e5c732",
   "metadata": {},
   "outputs": [
    {
     "data": {
      "image/png": "[encoded data removed]",
      "text/plain": [
       "<Figure size 700x500 with 1 Axes>"
      ]
     },
     "execution_count": 16,
     "metadata": {},
     "output_type": "execute_result"
    }
   ],
   "source": [
    "# use local simulator\n",
    "sim = Aer.get_backend('qasm_simulator')\n",
    "results = sim.run(transpile(dj_circuit,sim)).result()\n",
    "answer = results.get_counts()\n",
    "plot_histogram(answer)"
   ]
  },
  {
   "cell_type": "code",
   "execution_count": null,
   "id": "369e7399",
   "metadata": {},
   "outputs": [],
   "source": []
  }
 ],
 "metadata": {
  "kernelspec": {
   "display_name": "Python 3 (ipykernel)",
   "language": "python",
   "name": "python3"
  },
  "language_info": {
   "codemirror_mode": {
    "name": "ipython",
    "version": 3
   },
   "file_extension": ".py",
   "mimetype": "text/x-python",
   "name": "python",
   "nbconvert_exporter": "python",
   "pygments_lexer": "ipython3",
   "version": "3.11.2"
  }
 },
 "nbformat": 4,
 "nbformat_minor": 5
}
