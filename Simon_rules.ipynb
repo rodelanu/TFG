{
 "cells": [
  {
   "cell_type": "code",
   "execution_count": 42,
   "id": "caaedd4b",
   "metadata": {},
   "outputs": [
    {
     "data": {
      "text/html": [
       "<pre style=\"word-wrap: normal;white-space: pre;background: #fff0;line-height: 1.1;font-family: &quot;Courier New&quot;,Courier,monospace\">     ┌───┐ ░ ┌──────┐ ░ ┌───┐ ░ ┌─┐      \n",
       "q_0: ┤ H ├─░─┤0     ├─░─┤ H ├─░─┤M├──────\n",
       "     ├───┤ ░ │      │ ░ ├───┤ ░ └╥┘┌─┐   \n",
       "q_1: ┤ H ├─░─┤1     ├─░─┤ H ├─░──╫─┤M├───\n",
       "     ├───┤ ░ │      │ ░ ├───┤ ░  ║ └╥┘┌─┐\n",
       "q_2: ┤ H ├─░─┤2     ├─░─┤ H ├─░──╫──╫─┤M├\n",
       "     └───┘ ░ │  Q_f │ ░ └───┘ ░  ║  ║ └╥┘\n",
       "q_3: ──────░─┤3     ├─░───────░──╫──╫──╫─\n",
       "           ░ │      │ ░       ░  ║  ║  ║ \n",
       "q_4: ──────░─┤4     ├─░───────░──╫──╫──╫─\n",
       "           ░ │      │ ░       ░  ║  ║  ║ \n",
       "q_5: ──────░─┤5     ├─░───────░──╫──╫──╫─\n",
       "           ░ └──────┘ ░       ░  ║  ║  ║ \n",
       "c: 3/════════════════════════════╩══╩══╩═\n",
       "                                 0  1  2 </pre>"
      ],
      "text/plain": [
       "     ┌───┐ ░ ┌──────┐ ░ ┌───┐ ░ ┌─┐      \n",
       "q_0: ┤ H ├─░─┤0     ├─░─┤ H ├─░─┤M├──────\n",
       "     ├───┤ ░ │      │ ░ ├───┤ ░ └╥┘┌─┐   \n",
       "q_1: ┤ H ├─░─┤1     ├─░─┤ H ├─░──╫─┤M├───\n",
       "     ├───┤ ░ │      │ ░ ├───┤ ░  ║ └╥┘┌─┐\n",
       "q_2: ┤ H ├─░─┤2     ├─░─┤ H ├─░──╫──╫─┤M├\n",
       "     └───┘ ░ │  Q_f │ ░ └───┘ ░  ║  ║ └╥┘\n",
       "q_3: ──────░─┤3     ├─░───────░──╫──╫──╫─\n",
       "           ░ │      │ ░       ░  ║  ║  ║ \n",
       "q_4: ──────░─┤4     ├─░───────░──╫──╫──╫─\n",
       "           ░ │      │ ░       ░  ║  ║  ║ \n",
       "q_5: ──────░─┤5     ├─░───────░──╫──╫──╫─\n",
       "           ░ └──────┘ ░       ░  ║  ║  ║ \n",
       "c: 3/════════════════════════════╩══╩══╩═\n",
       "                                 0  1  2 "
      ]
     },
     "execution_count": 42,
     "metadata": {},
     "output_type": "execute_result"
    }
   ],
   "source": [
    "from qiskit import IBMQ, Aer\n",
    "from qiskit.providers.ibmq import least_busy\n",
    "from qiskit import QuantumCircuit, transpile, assemble\n",
    "from qiskit.visualization import plot_histogram\n",
    "from qiskit_textbook.tools import simon_oracle\n",
    "\n",
    "# Función que implementa el Algoritmo de Simon\n",
    "def simon_algorithm(b):\n",
    "    n = len(b)\n",
    "    simon_circuit = QuantumCircuit(2*n,n)\n",
    "    \n",
    "    # HADAMARD GATES\n",
    "    simon_circuit.h(range(n))\n",
    "    simon_circuit.barrier()\n",
    "    \n",
    "    # SIMON ORACLE\n",
    "    simon_circuit.append(simon_oracle(b).to_gate(label='Q_f'),[0,1,2,3,4,5])\n",
    "    # simon_circuit.compose(simon_oracle(b),inplace=True)\n",
    "    simon_circuit.barrier()\n",
    "    \n",
    "    # HADAMARD GATES\n",
    "    simon_circuit.h(range(n))\n",
    "    simon_circuit.barrier()\n",
    "    \n",
    "    # MEASUREMENTS\n",
    "    simon_circuit.measure(range(n),range(n))\n",
    "    \n",
    "    return simon_circuit\n",
    "\n",
    "simon_algorithm('001').draw()    "
   ]
  },
  {
   "cell_type": "code",
   "execution_count": 43,
   "id": "2f847644",
   "metadata": {},
   "outputs": [
    {
     "data": {
      "image/png": "[encoded data removed]",
      "text/plain": [
       "<Figure size 504x360 with 1 Axes>"
      ]
     },
     "execution_count": 43,
     "metadata": {},
     "output_type": "execute_result"
    }
   ],
   "source": [
    "# INPUT\n",
    "b = '001'\n",
    "\n",
    "# Simulación del Algoritmo de Simon con la cadena de bits b\n",
    "aer_sim = Aer.get_backend('aer_simulator')\n",
    "shots = 2048\n",
    "algorithm = simon_algorithm(b)\n",
    "qobj = assemble(transpile(algorithm,aer_sim), shots=shots)\n",
    "results = aer_sim.run(qobj).result()\n",
    "counts = results.get_counts()\n",
    "plot_histogram(counts)"
   ]
  },
  {
   "cell_type": "code",
   "execution_count": 44,
   "id": "f3e82780",
   "metadata": {},
   "outputs": [
    {
     "data": {
      "text/html": [
       "<pre style=\"word-wrap: normal;white-space: pre;background: #fff0;line-height: 1.1;font-family: &quot;Courier New&quot;,Courier,monospace\">      ┌───┐ ░ ┌──────┐ ░ ┌───┐ ░                 ░          \n",
       " q_0: ┤ H ├─░─┤0     ├─░─┤ H ├─░───■─────────────░──────────\n",
       "      ├───┤ ░ │      │ ░ ├───┤ ░   │             ░          \n",
       " q_1: ┤ H ├─░─┤1     ├─░─┤ H ├─░───┼────■────────░──────────\n",
       "      ├───┤ ░ │      │ ░ ├───┤ ░   │    │        ░          \n",
       " q_2: ┤ H ├─░─┤2     ├─░─┤ H ├─░───┼────┼────■───░──────────\n",
       "      └───┘ ░ │  Q_f │ ░ └───┘ ░   │    │    │   ░          \n",
       " q_3: ──────░─┤3     ├─░───────░───┼────┼────┼───░──────────\n",
       "            ░ │      │ ░       ░   │    │    │   ░          \n",
       " q_4: ──────░─┤4     ├─░───────░───┼────┼────┼───░──────────\n",
       "            ░ │      │ ░       ░   │    │    │   ░          \n",
       " q_5: ──────░─┤5     ├─░───────░───┼────┼────┼───░──────────\n",
       "      ┌───┐ ░ ├──────┤ ░ ┌───┐ ░ ┌─┴─┐  │    │   ░ ┌─┐      \n",
       " q_6: ┤ H ├─░─┤0     ├─░─┤ H ├─░─┤ X ├──┼────┼───░─┤M├──────\n",
       "      ├───┤ ░ │      │ ░ ├───┤ ░ └───┘┌─┴─┐  │   ░ └╥┘┌─┐   \n",
       " q_7: ┤ H ├─░─┤1     ├─░─┤ H ├─░──────┤ X ├──┼───░──╫─┤M├───\n",
       "      ├───┤ ░ │      │ ░ ├───┤ ░      └───┘┌─┴─┐ ░  ║ └╥┘┌─┐\n",
       " q_8: ┤ H ├─░─┤2     ├─░─┤ H ├─░───────────┤ X ├─░──╫──╫─┤M├\n",
       "      └───┘ ░ │  Q_f │ ░ └───┘ ░           └───┘ ░  ║  ║ └╥┘\n",
       " q_9: ──────░─┤3     ├─░───────░─────────────────░──╫──╫──╫─\n",
       "            ░ │      │ ░       ░                 ░  ║  ║  ║ \n",
       "q_10: ──────░─┤4     ├─░───────░─────────────────░──╫──╫──╫─\n",
       "            ░ │      │ ░       ░                 ░  ║  ║  ║ \n",
       "q_11: ──────░─┤5     ├─░───────░─────────────────░──╫──╫──╫─\n",
       "            ░ └──────┘ ░       ░                 ░  ║  ║  ║ \n",
       " c: 3/══════════════════════════════════════════════╩══╩══╩═\n",
       "                                                    0  1  2 </pre>"
      ],
      "text/plain": [
       "      ┌───┐ ░ ┌──────┐ ░ ┌───┐ ░                 ░          \n",
       " q_0: ┤ H ├─░─┤0     ├─░─┤ H ├─░───■─────────────░──────────\n",
       "      ├───┤ ░ │      │ ░ ├───┤ ░   │             ░          \n",
       " q_1: ┤ H ├─░─┤1     ├─░─┤ H ├─░───┼────■────────░──────────\n",
       "      ├───┤ ░ │      │ ░ ├───┤ ░   │    │        ░          \n",
       " q_2: ┤ H ├─░─┤2     ├─░─┤ H ├─░───┼────┼────■───░──────────\n",
       "      └───┘ ░ │  Q_f │ ░ └───┘ ░   │    │    │   ░          \n",
       " q_3: ──────░─┤3     ├─░───────░───┼────┼────┼───░──────────\n",
       "            ░ │      │ ░       ░   │    │    │   ░          \n",
       " q_4: ──────░─┤4     ├─░───────░───┼────┼────┼───░──────────\n",
       "            ░ │      │ ░       ░   │    │    │   ░          \n",
       " q_5: ──────░─┤5     ├─░───────░───┼────┼────┼───░──────────\n",
       "      ┌───┐ ░ ├──────┤ ░ ┌───┐ ░ ┌─┴─┐  │    │   ░ ┌─┐      \n",
       " q_6: ┤ H ├─░─┤0     ├─░─┤ H ├─░─┤ X ├──┼────┼───░─┤M├──────\n",
       "      ├───┤ ░ │      │ ░ ├───┤ ░ └───┘┌─┴─┐  │   ░ └╥┘┌─┐   \n",
       " q_7: ┤ H ├─░─┤1     ├─░─┤ H ├─░──────┤ X ├──┼───░──╫─┤M├───\n",
       "      ├───┤ ░ │      │ ░ ├───┤ ░      └───┘┌─┴─┐ ░  ║ └╥┘┌─┐\n",
       " q_8: ┤ H ├─░─┤2     ├─░─┤ H ├─░───────────┤ X ├─░──╫──╫─┤M├\n",
       "      └───┘ ░ │  Q_f │ ░ └───┘ ░           └───┘ ░  ║  ║ └╥┘\n",
       " q_9: ──────░─┤3     ├─░───────░─────────────────░──╫──╫──╫─\n",
       "            ░ │      │ ░       ░                 ░  ║  ║  ║ \n",
       "q_10: ──────░─┤4     ├─░───────░─────────────────░──╫──╫──╫─\n",
       "            ░ │      │ ░       ░                 ░  ║  ║  ║ \n",
       "q_11: ──────░─┤5     ├─░───────░─────────────────░──╫──╫──╫─\n",
       "            ░ └──────┘ ░       ░                 ░  ║  ║  ║ \n",
       " c: 3/══════════════════════════════════════════════╩══╩══╩═\n",
       "                                                    0  1  2 "
      ]
     },
     "execution_count": 44,
     "metadata": {},
     "output_type": "execute_result"
    }
   ],
   "source": [
    "\n",
    "\"\"\"\n",
    "Regla Metamórfica del algoritmo de Simon:\n",
    "\n",
    "- Al efectuar la suma bit a bit con los posibles resultados del programa \n",
    "   que resuelve el algoritmo de Simon, obtenemos de nuevo el conjunto inicial.\n",
    "\n",
    "\"\"\"\n",
    "\n",
    "def simon_rule(b):\n",
    "    n = len(b)\n",
    "        \n",
    "    simon_circuit = QuantumCircuit(4*n,n)\n",
    "\n",
    "    # HADAMARD GATES\n",
    "    simon_circuit.h(range(n))   \n",
    "    simon_circuit.h(range(2*n,3*n))\n",
    "    simon_circuit.barrier()\n",
    "    \n",
    "    # SIMON ORACLE\n",
    "    simon_circuit.append(simon_oracle(b).to_gate(label='Q_f'),list(range(2*n)))\n",
    "    simon_circuit.append(simon_oracle(b).to_gate(label='Q_f'),list(range(2*n,4*n)))\n",
    "    simon_circuit.barrier()\n",
    "    \n",
    "    # HADAMARD GATES\n",
    "    simon_circuit.h(range(n))   \n",
    "    simon_circuit.h(range(2*n,3*n))\n",
    "    simon_circuit.barrier()\n",
    "    \n",
    "    # BIT-WISE SUM\n",
    "    for i in range(n):\n",
    "        simon_circuit.cx(i,2*n+i)\n",
    "    simon_circuit.barrier()\n",
    "    \n",
    "    # MEASUREMENTS\n",
    "    simon_circuit.measure(range(2*n,3*n),range(n))\n",
    "\n",
    "    return simon_circuit\n",
    "\n",
    "simon_rule1('001').draw()   "
   ]
  },
  {
   "cell_type": "code",
   "execution_count": 45,
   "id": "662412ad",
   "metadata": {},
   "outputs": [
    {
     "data": {
      "image/png": "[encoded data removed]",
      "text/plain": [
       "<Figure size 504x360 with 1 Axes>"
      ]
     },
     "execution_count": 45,
     "metadata": {},
     "output_type": "execute_result"
    }
   ],
   "source": [
    "# INPUT\n",
    "b = '001'\n",
    "\n",
    "# Simulación de la primera regla metamórfica con la cadena de bits b\n",
    "aer_sim = Aer.get_backend('aer_simulator')\n",
    "shots = 2048\n",
    "qobj = assemble(transpile(simon_rule(b),aer_sim), shots=shots)\n",
    "results = aer_sim.run(qobj).result()\n",
    "counts = results.get_counts()\n",
    "plot_histogram(counts)"
   ]
  },
  {
   "cell_type": "code",
   "execution_count": 46,
   "id": "15857912",
   "metadata": {},
   "outputs": [
    {
     "name": "stdout",
     "output_type": "stream",
     "text": [
      "['000', '010', '100', '110']\n",
      "['000', '010', '100', '110']\n"
     ]
    }
   ],
   "source": [
    "\n",
    "\"\"\"\n",
    "Regla metamórfica del algoritmo de Simon:\n",
    "- Aplicar la implementación del algoritmo a una cadena e invertir las cadenas\n",
    "   de bits resultantes, equivale a aplicar el programa a la cadena inicial invertida.\n",
    "\n",
    "\"\"\"\n",
    "\n",
    "\n",
    "def reverse_str(word: str) -> str:\n",
    "    return word[::-1]\n",
    "\n",
    "def reverse_lst(words: [str]) -> [str]:\n",
    "    return list(map(reverse_str,words))\n",
    "\n",
    "# INPUT\n",
    "a = '001'\n",
    "b = reverse_str(a)\n",
    "\n",
    "aer_sim = Aer.get_backend('aer_simulator')\n",
    "# INITIAL LOCAL SIMULATOR\n",
    "qobj = assemble(transpile(simon_algorithm(a),aer_sim), shots=1024)\n",
    "results = aer_sim.run(qobj).result()\n",
    "counts = results.get_counts()\n",
    "print(sorted(set(counts.keys())))\n",
    "\n",
    "# REVERSED LOCAL SIMULATOR\n",
    "qobj = assemble(transpile(simon_algorithm(b),aer_sim), shots=1024)\n",
    "results = aer_sim.run(qobj).result()\n",
    "counts = results.get_counts()\n",
    "print(sorted(reverse_lst(set(counts.keys()))))"
   ]
  }
 ],
 "metadata": {
  "kernelspec": {
   "display_name": "Python 3 (ipykernel)",
   "language": "python",
   "name": "python3"
  },
  "language_info": {
   "codemirror_mode": {
    "name": "ipython",
    "version": 3
   },
   "file_extension": ".py",
   "mimetype": "text/x-python",
   "name": "python",
   "nbconvert_exporter": "python",
   "pygments_lexer": "ipython3",
   "version": "3.9.7"
  }
 },
 "nbformat": 4,
 "nbformat_minor": 5
}
